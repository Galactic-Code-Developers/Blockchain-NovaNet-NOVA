import pandas as pd

# Define smart contracts explicitly aligned per repository
data = [
    {"Smart Contract": "AIAuditLogger.sol",              "NovaNet-Core": "✅", "NovaNet-Validator": "✅", "NovaNet-Delegator": "✅"},
    {"Smart Contract": "AIValidatorSelection.sol",      "NovaNet-Core": "✅", "NovaNet-Validator": "✅", "NovaNet-Delegator": "✅"},
    {"Smart Contract": "AISlashingMonitor.sol",         "NovaNet-Core": "✅", "NovaNet-Validator": "✅", "NovaNet-Delegator": "✅"},
    {"Smart Contract": "AIRewardDistribution.sol",      "NovaNet-Core": "✅", "NovaNet-Validator": "✅", "NovaNet-Delegator": "✅"},
    {"Smart Contract": "QuantumSecureHasher.sol",       "NovaNet-Core": "✅", "NovaNet-Validator": "✅", "NovaNet-Delegator": ""},
    {"Smart Contract": "NovaNetValidator.sol",          "NovaNet-Core": "✅", "NovaNet-Validator": "✅", "NovaNet-Delegator": ""},
    {"Smart Contract": "NovaNetGovernance.sol",         "NovaNet-Core": "✅", "NovaNet-Validator": "✅", "NovaNet-Delegator": ""},
    {"Smart Contract": "NovaNetTreasury.sol",           "NovaNet-Core": "✅", "NovaNet-Validator": "✅", "NovaNet-Delegator": ""},
    {"Smart Contract": "DelegatorContract.sol",         "NovaNet-Core": "",   "NovaNet-Validator": "",   "NovaNet-Delegator": "✅"},
    {"Smart Contract": "DelegatorGovernance.sol",       "NovaNet-Core": "",   "NovaNet-Validator": "",   "NovaNet-Delegator": "✅"},
    {"Smart Contract": "DelegatorStaking.sol",          "NovaNet-Core": "",   "NovaNet-Validator": "",   "NovaNet-Delegator": "✅"},
    {"Smart Contract": "AIAuditLogger.sol",             "NovaNet-Core": "✅", "NovaNet-Validator": "✅", "NovaNet-Delegator": "✅"},
    {"Smart Contract": "AIVotingModel.sol",             "NovaNet-Core": "✅", "NovaNet-Validator": "✅", "NovaNet-Delegator": "✅"},
    {"Smart Contract": "NovaNetOracle.sol",             "NovaNet-Core": "✅", "NovaNet-Validator": "✅", "NovaNet-Delegator": ""},
    {"Smart Contract": "NovaNetBridge.sol",             "NovaNet-Core": "✅", "NovaNet-Validator": "",   "NovaNet-Delegator": ""},
    {"Smart Contract": "AISlashingAppeal.sol",          "NovaNet-Core": "",   "NovaNet-Validator": "✅", "NovaNet-Delegator": "✅"},
    {"Smart Contract": "AIValidatorLeaderboard.sol",    "NovaNet-Core": "",   "NovaNet-Validator": "✅", "NovaNet-Delegator": ""},
    {"Smart Contract": "AIEconomicPredictor.sol",       "NovaNet-Core": "",   "NovaNet-Validator": "✅", "NovaNet-Delegator": ""},
    {"Smart Contract": "AISpendingOptimizer.sol",       "NovaNet-Core": "",   "NovaNet-Validator": "✅", "NovaNet-Delegator": ""},
]

# Create the DataFrame
import pandas as pd
df = pd.DataFrame(data)

# Mark contracts used by multiple repositories with an asterisk (*)
def mark_common(row):
    repos = [row["NovaNet-Core"], row["NovaNet-Validator"], row["NovaNet-Delegator"]]
    if sum([x == "✅" for x in repos]) > 1:
        return row["Smart Contract"] + "*"
    return row["Smart Contract"]

df["Smart Contract"] = df.apply(lambda row: row["Smart Contract"] + "*" if sum([
    row["NovaNet-Core"] == "✅", 
    row["NovaNet-Validator"] == "✅", 
    row["NovaNet-Delegator"] == "✅"
]) > 1 else row["Smart Contract"], axis=1)

df
